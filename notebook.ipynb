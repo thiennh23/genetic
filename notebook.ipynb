{
 "cells": [
  {
   "cell_type": "code",
   "execution_count": 28,
   "metadata": {},
   "outputs": [],
   "source": [
    "#Import libraries\n",
    "import numpy as np\n",
    "import pandas as pd\n",
    "import seaborn as sns\n",
    "import matplotlib.pyplot as plt\n",
    "from random import randint\n",
    "from sklearn.model_selection import train_test_split\n",
    "from sklearn import svm\n",
    "from sklearn.linear_model import LogisticRegression\n",
    "from sklearn.ensemble import RandomForestClassifier, AdaBoostClassifier, GradientBoostingClassifier\n",
    "from sklearn.tree import DecisionTreeClassifier\n",
    "from sklearn.neighbors import KNeighborsClassifier\n",
    "from sklearn.metrics import accuracy_score\n",
    "\n",
    "%matplotlib inline\n",
    "import warnings\n",
    "warnings.filterwarnings(\"ignore\")"
   ]
  },
  {
   "cell_type": "code",
   "execution_count": 29,
   "metadata": {},
   "outputs": [],
   "source": [
    "# Function to split dataset\n",
    "def split(df, label):\n",
    "    X_tr, X_te, Y_tr, Y_te = train_test_split(df, label, test_size=0.25, random_state=42)\n",
    "    return X_tr, X_te, Y_tr, Y_te"
   ]
  },
  {
   "cell_type": "code",
   "execution_count": 30,
   "metadata": {},
   "outputs": [],
   "source": [
    "# List of classifiers and their models\n",
    "classifiers = ['LinearSVM', 'RadialSVM', 'Logistic', 'RandomForest', 'AdaBoost', 'DecisionTree', 'KNeighbors', 'GradientBoosting']\n",
    "models = [\n",
    "    svm.SVC(kernel='linear'),\n",
    "    svm.SVC(kernel='rbf'),\n",
    "    LogisticRegression(max_iter=1000),\n",
    "    RandomForestClassifier(n_estimators=200, random_state=0),\n",
    "    AdaBoostClassifier(random_state=0),\n",
    "    DecisionTreeClassifier(random_state=0),\n",
    "    KNeighborsClassifier(),\n",
    "    GradientBoostingClassifier(random_state=0)\n",
    "]"
   ]
  },
  {
   "cell_type": "code",
   "execution_count": 31,
   "metadata": {},
   "outputs": [],
   "source": [
    "# Function to compute accuracy scores for classifiers\n",
    "def acc_score(df, label):\n",
    "    Score = pd.DataFrame({\"Classifier\": classifiers})\n",
    "    acc = []\n",
    "    X_train, X_test, Y_train, Y_test = split(df, label)\n",
    "    for model in models:\n",
    "        model.fit(X_train, Y_train)\n",
    "        predictions = model.predict(X_test)\n",
    "        acc.append(accuracy_score(Y_test, predictions))\n",
    "    Score[\"Accuracy\"] = acc\n",
    "    Score.sort_values(by=\"Accuracy\", ascending=False, inplace=True)\n",
    "    Score.reset_index(drop=True, inplace=True)\n",
    "    return Score\n"
   ]
  },
  {
   "cell_type": "code",
   "execution_count": 32,
   "metadata": {},
   "outputs": [],
   "source": [
    "# Function to plot results\n",
    "def plot(score, x, y, c=\"b\"):\n",
    "    gen = list(range(1, len(score) + 1))\n",
    "    plt.figure(figsize=(6, 4))\n",
    "    ax = sns.pointplot(x=gen, y=score, color=c)\n",
    "    ax.set(xlabel=\"Generation\", ylabel=\"Accuracy\")\n",
    "    ax.set(ylim=(x, y))"
   ]
  },
  {
   "cell_type": "code",
   "execution_count": 33,
   "metadata": {},
   "outputs": [],
   "source": [
    "# Initialize a random population\n",
    "def initilization_of_population(size, n_feat):\n",
    "    population = []\n",
    "    for i in range(size):\n",
    "        chromosome = np.ones(n_feat, dtype=np.bool)     \n",
    "        chromosome[:int(0.3 * n_feat)] = False             \n",
    "        np.random.shuffle(chromosome)\n",
    "        population.append(chromosome)\n",
    "    return population"
   ]
  },
  {
   "cell_type": "code",
   "execution_count": 34,
   "metadata": {},
   "outputs": [],
   "source": [
    "# Compute fitness scores\n",
    "def fitness_score(population, X_train, Y_train, X_test, Y_test):\n",
    "    scores = []\n",
    "    for chromosome in population:\n",
    "        logmodel.fit(X_train.iloc[:, chromosome], Y_train)         \n",
    "        predictions = logmodel.predict(X_test.iloc[:, chromosome])\n",
    "        scores.append(accuracy_score(Y_test, predictions))\n",
    "    scores, population = np.array(scores), np.array(population) \n",
    "    inds = np.argsort(scores)                                    \n",
    "    return list(scores[inds][::-1]), list(population[inds][:][::-1]) \n"
   ]
  },
  {
   "cell_type": "code",
   "execution_count": 35,
   "metadata": {},
   "outputs": [],
   "source": [
    "# Select the best parents\n",
    "def selection(pop_after_fit, n_parents):\n",
    "    return pop_after_fit[:n_parents]"
   ]
  },
  {
   "cell_type": "code",
   "execution_count": 36,
   "metadata": {},
   "outputs": [],
   "source": [
    "# Perform crossover\n",
    "def crossover(pop_after_sel):\n",
    "    pop_nextgen = pop_after_sel.copy()\n",
    "    for i in range(0, len(pop_after_sel), 2):\n",
    "        if i + 1 < len(pop_after_sel):\n",
    "            child_1, child_2 = pop_after_sel[i], pop_after_sel[i + 1]\n",
    "            crossover_point = randint(1, len(child_1) - 1)\n",
    "            child_1[crossover_point:], child_2[crossover_point:] = child_2[crossover_point:], child_1[crossover_point:]\n",
    "            pop_nextgen.extend([child_1, child_2])\n",
    "    return pop_nextgen"
   ]
  },
  {
   "cell_type": "code",
   "execution_count": 37,
   "metadata": {},
   "outputs": [],
   "source": [
    "# Perform mutation\n",
    "def mutation(pop_after_cross, mutation_rate, n_feat):\n",
    "    mutation_range = int(mutation_rate * n_feat)\n",
    "    pop_next_gen = []\n",
    "    for chromo in pop_after_cross:\n",
    "        chromo = chromo.copy()\n",
    "        for _ in range(mutation_range):\n",
    "            pos = randint(0, n_feat - 1)\n",
    "            chromo[pos] = not chromo[pos]\n",
    "        pop_next_gen.append(chromo)\n",
    "    return pop_next_gen"
   ]
  },
  {
   "cell_type": "code",
   "execution_count": 38,
   "metadata": {},
   "outputs": [],
   "source": [
    "\n",
    "def generations(df, label, size, n_feat, n_parents, mutation_rate, n_gen, X_train, X_test, Y_train, Y_test):\n",
    "    best_chromo = []\n",
    "    best_score = []\n",
    "    population_nextgen = initilization_of_population(size, n_feat)\n",
    "    best_overall_score = 0\n",
    "    best_overall_chromo = None\n",
    "\n",
    "    for i in range(n_gen):\n",
    "        scores, pop_after_fit = fitness_score(population_nextgen, X_train, Y_train, X_test, Y_test)\n",
    "\n",
    "        if scores[0] > best_overall_score:\n",
    "            best_overall_score = scores[0]\n",
    "            best_overall_chromo = pop_after_fit[0]\n",
    "        else:\n",
    "            scores[0] = best_overall_score\n",
    "            pop_after_fit[0] = best_overall_chromo\n",
    "\n",
    "        print(f'Best score in generation {i + 1}: {scores[0]}')\n",
    "        print(f'Best chromosome in generation {i + 1}: {pop_after_fit[0].astype(int)}')  # Print the best chromosome\n",
    "\n",
    "        pop_after_sel = selection(pop_after_fit, n_parents)\n",
    "        pop_after_cross = crossover(pop_after_sel)\n",
    "        population_nextgen = mutation(pop_after_cross, mutation_rate, n_feat)\n",
    "\n",
    "        best_chromo.append(pop_after_fit[0])\n",
    "        best_score.append(scores[0])\n",
    "\n",
    "    return best_chromo, best_score"
   ]
  },
  {
   "cell_type": "markdown",
   "metadata": {},
   "source": [
    "# Data"
   ]
  },
  {
   "cell_type": "code",
   "execution_count": 39,
   "metadata": {},
   "outputs": [],
   "source": [
    "# Function to plot the comparison of scores\n",
    "def plot_comparison(score1, score2):\n",
    "    # Create a DataFrame for plotting\n",
    "    comparison_df = pd.DataFrame({\n",
    "        'Classifier': score1['Classifier'],\n",
    "        'Original': score1['Accuracy'],\n",
    "        'Filtered': score2['Accuracy']\n",
    "    })\n",
    "\n",
    "    # Melt the DataFrame to long format for seaborn\n",
    "    comparison_df = comparison_df.melt(id_vars='Classifier', var_name='Dataset', value_name='Accuracy')\n",
    "\n",
    "    # Plot the comparison\n",
    "    plt.figure(figsize=(12, 6))\n",
    "    sns.barplot(x='Classifier', y='Accuracy', hue='Dataset', data=comparison_df)\n",
    "    plt.title('Comparison of Classifier Accuracy on Original vs Filtered Dataset')\n",
    "    plt.xticks(rotation=45)\n",
    "    plt.ylim(0.9, 1.0)  # Set y-axis limit for better visualization\n",
    "    plt.show()"
   ]
  },
  {
   "cell_type": "code",
   "execution_count": 40,
   "metadata": {},
   "outputs": [],
   "source": [
    "# Load and preprocess the dataset\n",
    "data_bc = pd.read_csv(\"data.csv\")\n",
    "label_bc = data_bc[\"diagnosis\"].apply(lambda x: 1 if x == 'M' else 0)\n",
    "data_bc.drop([\"id\", \"diagnosis\", \"Unnamed: 32\"], axis=1, inplace=True)"
   ]
  },
  {
   "cell_type": "code",
   "execution_count": 41,
   "metadata": {},
   "outputs": [
    {
     "name": "stdout",
     "output_type": "stream",
     "text": [
      "Breast Cancer dataset:\n",
      " 569 Records\n",
      " 30 Features\n"
     ]
    },
    {
     "data": {
      "text/html": [
       "<div>\n",
       "<style scoped>\n",
       "    .dataframe tbody tr th:only-of-type {\n",
       "        vertical-align: middle;\n",
       "    }\n",
       "\n",
       "    .dataframe tbody tr th {\n",
       "        vertical-align: top;\n",
       "    }\n",
       "\n",
       "    .dataframe thead th {\n",
       "        text-align: right;\n",
       "    }\n",
       "</style>\n",
       "<table border=\"1\" class=\"dataframe\">\n",
       "  <thead>\n",
       "    <tr style=\"text-align: right;\">\n",
       "      <th></th>\n",
       "      <th>radius_mean</th>\n",
       "      <th>texture_mean</th>\n",
       "      <th>perimeter_mean</th>\n",
       "      <th>area_mean</th>\n",
       "      <th>smoothness_mean</th>\n",
       "      <th>compactness_mean</th>\n",
       "      <th>concavity_mean</th>\n",
       "      <th>concave points_mean</th>\n",
       "      <th>symmetry_mean</th>\n",
       "      <th>fractal_dimension_mean</th>\n",
       "      <th>...</th>\n",
       "      <th>radius_worst</th>\n",
       "      <th>texture_worst</th>\n",
       "      <th>perimeter_worst</th>\n",
       "      <th>area_worst</th>\n",
       "      <th>smoothness_worst</th>\n",
       "      <th>compactness_worst</th>\n",
       "      <th>concavity_worst</th>\n",
       "      <th>concave points_worst</th>\n",
       "      <th>symmetry_worst</th>\n",
       "      <th>fractal_dimension_worst</th>\n",
       "    </tr>\n",
       "  </thead>\n",
       "  <tbody>\n",
       "    <tr>\n",
       "      <th>0</th>\n",
       "      <td>17.99</td>\n",
       "      <td>10.38</td>\n",
       "      <td>122.80</td>\n",
       "      <td>1001.0</td>\n",
       "      <td>0.11840</td>\n",
       "      <td>0.27760</td>\n",
       "      <td>0.3001</td>\n",
       "      <td>0.14710</td>\n",
       "      <td>0.2419</td>\n",
       "      <td>0.07871</td>\n",
       "      <td>...</td>\n",
       "      <td>25.38</td>\n",
       "      <td>17.33</td>\n",
       "      <td>184.60</td>\n",
       "      <td>2019.0</td>\n",
       "      <td>0.1622</td>\n",
       "      <td>0.6656</td>\n",
       "      <td>0.7119</td>\n",
       "      <td>0.2654</td>\n",
       "      <td>0.4601</td>\n",
       "      <td>0.11890</td>\n",
       "    </tr>\n",
       "    <tr>\n",
       "      <th>1</th>\n",
       "      <td>20.57</td>\n",
       "      <td>17.77</td>\n",
       "      <td>132.90</td>\n",
       "      <td>1326.0</td>\n",
       "      <td>0.08474</td>\n",
       "      <td>0.07864</td>\n",
       "      <td>0.0869</td>\n",
       "      <td>0.07017</td>\n",
       "      <td>0.1812</td>\n",
       "      <td>0.05667</td>\n",
       "      <td>...</td>\n",
       "      <td>24.99</td>\n",
       "      <td>23.41</td>\n",
       "      <td>158.80</td>\n",
       "      <td>1956.0</td>\n",
       "      <td>0.1238</td>\n",
       "      <td>0.1866</td>\n",
       "      <td>0.2416</td>\n",
       "      <td>0.1860</td>\n",
       "      <td>0.2750</td>\n",
       "      <td>0.08902</td>\n",
       "    </tr>\n",
       "    <tr>\n",
       "      <th>2</th>\n",
       "      <td>19.69</td>\n",
       "      <td>21.25</td>\n",
       "      <td>130.00</td>\n",
       "      <td>1203.0</td>\n",
       "      <td>0.10960</td>\n",
       "      <td>0.15990</td>\n",
       "      <td>0.1974</td>\n",
       "      <td>0.12790</td>\n",
       "      <td>0.2069</td>\n",
       "      <td>0.05999</td>\n",
       "      <td>...</td>\n",
       "      <td>23.57</td>\n",
       "      <td>25.53</td>\n",
       "      <td>152.50</td>\n",
       "      <td>1709.0</td>\n",
       "      <td>0.1444</td>\n",
       "      <td>0.4245</td>\n",
       "      <td>0.4504</td>\n",
       "      <td>0.2430</td>\n",
       "      <td>0.3613</td>\n",
       "      <td>0.08758</td>\n",
       "    </tr>\n",
       "    <tr>\n",
       "      <th>3</th>\n",
       "      <td>11.42</td>\n",
       "      <td>20.38</td>\n",
       "      <td>77.58</td>\n",
       "      <td>386.1</td>\n",
       "      <td>0.14250</td>\n",
       "      <td>0.28390</td>\n",
       "      <td>0.2414</td>\n",
       "      <td>0.10520</td>\n",
       "      <td>0.2597</td>\n",
       "      <td>0.09744</td>\n",
       "      <td>...</td>\n",
       "      <td>14.91</td>\n",
       "      <td>26.50</td>\n",
       "      <td>98.87</td>\n",
       "      <td>567.7</td>\n",
       "      <td>0.2098</td>\n",
       "      <td>0.8663</td>\n",
       "      <td>0.6869</td>\n",
       "      <td>0.2575</td>\n",
       "      <td>0.6638</td>\n",
       "      <td>0.17300</td>\n",
       "    </tr>\n",
       "    <tr>\n",
       "      <th>4</th>\n",
       "      <td>20.29</td>\n",
       "      <td>14.34</td>\n",
       "      <td>135.10</td>\n",
       "      <td>1297.0</td>\n",
       "      <td>0.10030</td>\n",
       "      <td>0.13280</td>\n",
       "      <td>0.1980</td>\n",
       "      <td>0.10430</td>\n",
       "      <td>0.1809</td>\n",
       "      <td>0.05883</td>\n",
       "      <td>...</td>\n",
       "      <td>22.54</td>\n",
       "      <td>16.67</td>\n",
       "      <td>152.20</td>\n",
       "      <td>1575.0</td>\n",
       "      <td>0.1374</td>\n",
       "      <td>0.2050</td>\n",
       "      <td>0.4000</td>\n",
       "      <td>0.1625</td>\n",
       "      <td>0.2364</td>\n",
       "      <td>0.07678</td>\n",
       "    </tr>\n",
       "  </tbody>\n",
       "</table>\n",
       "<p>5 rows × 30 columns</p>\n",
       "</div>"
      ],
      "text/plain": [
       "   radius_mean  texture_mean  perimeter_mean  area_mean  smoothness_mean  \\\n",
       "0        17.99         10.38          122.80     1001.0          0.11840   \n",
       "1        20.57         17.77          132.90     1326.0          0.08474   \n",
       "2        19.69         21.25          130.00     1203.0          0.10960   \n",
       "3        11.42         20.38           77.58      386.1          0.14250   \n",
       "4        20.29         14.34          135.10     1297.0          0.10030   \n",
       "\n",
       "   compactness_mean  concavity_mean  concave points_mean  symmetry_mean  \\\n",
       "0           0.27760          0.3001              0.14710         0.2419   \n",
       "1           0.07864          0.0869              0.07017         0.1812   \n",
       "2           0.15990          0.1974              0.12790         0.2069   \n",
       "3           0.28390          0.2414              0.10520         0.2597   \n",
       "4           0.13280          0.1980              0.10430         0.1809   \n",
       "\n",
       "   fractal_dimension_mean  ...  radius_worst  texture_worst  perimeter_worst  \\\n",
       "0                 0.07871  ...         25.38          17.33           184.60   \n",
       "1                 0.05667  ...         24.99          23.41           158.80   \n",
       "2                 0.05999  ...         23.57          25.53           152.50   \n",
       "3                 0.09744  ...         14.91          26.50            98.87   \n",
       "4                 0.05883  ...         22.54          16.67           152.20   \n",
       "\n",
       "   area_worst  smoothness_worst  compactness_worst  concavity_worst  \\\n",
       "0      2019.0            0.1622             0.6656           0.7119   \n",
       "1      1956.0            0.1238             0.1866           0.2416   \n",
       "2      1709.0            0.1444             0.4245           0.4504   \n",
       "3       567.7            0.2098             0.8663           0.6869   \n",
       "4      1575.0            0.1374             0.2050           0.4000   \n",
       "\n",
       "   concave points_worst  symmetry_worst  fractal_dimension_worst  \n",
       "0                0.2654          0.4601                  0.11890  \n",
       "1                0.1860          0.2750                  0.08902  \n",
       "2                0.2430          0.3613                  0.08758  \n",
       "3                0.2575          0.6638                  0.17300  \n",
       "4                0.1625          0.2364                  0.07678  \n",
       "\n",
       "[5 rows x 30 columns]"
      ]
     },
     "metadata": {},
     "output_type": "display_data"
    }
   ],
   "source": [
    "print(\"Breast Cancer dataset:\\n\", data_bc.shape[0], \"Records\\n\", data_bc.shape[1], \"Features\")\n",
    "display(data_bc.head())"
   ]
  },
  {
   "cell_type": "code",
   "execution_count": 42,
   "metadata": {},
   "outputs": [
    {
     "name": "stdout",
     "output_type": "stream",
     "text": [
      "Original dataset scores:\n",
      "          Classifier  Accuracy\n",
      "0      RandomForest  0.972028\n",
      "1          Logistic  0.965035\n",
      "2        KNeighbors  0.965035\n",
      "3         LinearSVM  0.958042\n",
      "4  GradientBoosting  0.958042\n",
      "5         RadialSVM  0.951049\n",
      "6          AdaBoost  0.951049\n",
      "7      DecisionTree  0.930070\n"
     ]
    }
   ],
   "source": [
    "# Evaluate classifiers on the original dataset\n",
    "score1 = acc_score(data_bc, label_bc)\n",
    "print(\"Original dataset scores:\\n\", score1)"
   ]
  },
  {
   "cell_type": "code",
   "execution_count": 43,
   "metadata": {},
   "outputs": [
    {
     "name": "stdout",
     "output_type": "stream",
     "text": [
      "Best score in generation 1: 0.993006993006993\n",
      "Best chromosome in generation 1: [1 1 1 1 1 1 1 0 0 1 1 1 1 1 0 1 0 0 0 1 1 1 1 1 1 0 1 0 0 1]\n",
      "Best score in generation 2: 0.993006993006993\n",
      "Best chromosome in generation 2: [1 1 1 1 1 1 1 0 0 1 1 1 1 1 1 1 1 1 1 1 1 1 1 1 1 0 1 0 1 0]\n",
      "Best score in generation 3: 0.993006993006993\n",
      "Best chromosome in generation 3: [1 1 1 1 1 1 1 0 0 1 1 1 1 1 1 1 1 1 0 1 0 0 1 1 1 0 1 0 1 1]\n",
      "Best score in generation 4: 0.993006993006993\n",
      "Best chromosome in generation 4: [1 1 1 1 1 1 1 0 0 1 1 1 1 1 1 1 1 1 1 0 0 1 1 1 1 0 0 0 0 0]\n",
      "Best score in generation 5: 0.993006993006993\n",
      "Best chromosome in generation 5: [1 1 1 1 1 1 1 0 0 1 1 1 1 1 1 1 1 1 1 0 0 1 1 1 1 0 0 0 0 0]\n"
     ]
    }
   ],
   "source": [
    "# Choose the best classifier and run GA for feature selection\n",
    "logmodel = RandomForestClassifier(n_estimators=200, random_state=0)\n",
    "X_train, X_test, Y_train, Y_test = split(data_bc, label_bc)\n",
    "chromo_df_bc, score_bc = generations(data_bc, label_bc, size=80, n_feat=data_bc.shape[1], n_parents=64, mutation_rate=0.20, n_gen=5,\n",
    "                                     X_train=X_train, X_test=X_test, Y_train=Y_train, Y_test=Y_test)"
   ]
  },
  {
   "cell_type": "code",
   "execution_count": 44,
   "metadata": {},
   "outputs": [
    {
     "data": {
      "image/png": "[encoded data removed]",
      "text/plain": [
       "<Figure size 600x400 with 1 Axes>"
      ]
     },
     "metadata": {},
     "output_type": "display_data"
    }
   ],
   "source": [
    "# Visualization\n",
    "plot(score_bc, 0.9, 1.0, c=\"gold\")"
   ]
  },
  {
   "cell_type": "code",
   "execution_count": 45,
   "metadata": {},
   "outputs": [],
   "source": [
    "# Get the best chromosome from the last generation\n",
    "best_chromosome = chromo_df_bc[-1]\n",
    "selected_features = data_bc.columns[best_chromosome]"
   ]
  },
  {
   "cell_type": "code",
   "execution_count": 46,
   "metadata": {},
   "outputs": [],
   "source": [
    "# Filter the dataset using the best chromosome\n",
    "data_bc_filtered = data_bc[selected_features]"
   ]
  },
  {
   "cell_type": "code",
   "execution_count": 47,
   "metadata": {},
   "outputs": [
    {
     "name": "stdout",
     "output_type": "stream",
     "text": [
      "Filtered dataset scores:\n",
      "          Classifier  Accuracy\n",
      "0      RandomForest  0.993007\n",
      "1          AdaBoost  0.986014\n",
      "2  GradientBoosting  0.986014\n",
      "3         LinearSVM  0.979021\n",
      "4          Logistic  0.979021\n",
      "5      DecisionTree  0.972028\n",
      "6         RadialSVM  0.951049\n",
      "7        KNeighbors  0.951049\n"
     ]
    }
   ],
   "source": [
    "# Evaluate classifiers on the filtered dataset\n",
    "score2 = acc_score(data_bc_filtered, label_bc)\n",
    "print(\"Filtered dataset scores:\\n\", score2)"
   ]
  },
  {
   "cell_type": "code",
   "execution_count": 48,
   "metadata": {},
   "outputs": [
    {
     "data": {
      "image/png": "[encoded data removed]",
      "text/plain": [
       "<Figure size 1200x600 with 1 Axes>"
      ]
     },
     "metadata": {},
     "output_type": "display_data"
    }
   ],
   "source": [
    "# Visualize the comparison between original and filtered dataset classifier scores\n",
    "plot_comparison(score1, score2)"
   ]
  },
  {
   "cell_type": "markdown",
   "metadata": {},
   "source": [
    "# Parkinsson Dataset"
   ]
  },
  {
   "cell_type": "code",
   "execution_count": null,
   "metadata": {},
   "outputs": [],
   "source": [
    "# Load and preprocess the dataset\n",
    "data_pd = pd.read_csv(\"ParkinssonDataset.xls\")\n",
    "label_pd = data_pd[\"status\"]\n",
    "data_pd.drop([\"status\",\"name\"],axis = 1,inplace = True)\n",
    "\n",
    "print(\"Parkinson's disease dataset:\\n\",data_pd.shape[0],\"Records\\n\",data_pd.shape[1],\"Features\")"
   ]
  },
  {
   "cell_type": "code",
   "execution_count": null,
   "metadata": {},
   "outputs": [],
   "source": [
    "display(data_pd.head())\n",
    "print(\"All the features in this dataset have continuous values\")"
   ]
  },
  {
   "cell_type": "code",
   "execution_count": null,
   "metadata": {},
   "outputs": [],
   "source": [
    "score3 = acc_score(data_pd,label_pd)\n",
    "score3"
   ]
  },
  {
   "cell_type": "code",
   "execution_count": null,
   "metadata": {},
   "outputs": [],
   "source": [
    "# Choose the best classifier and run GA for feature selection\n",
    "logmodel = RandomForestClassifier(random_state=0)\n",
    "X_train,X_test, Y_train, Y_test = split(data_pd,label_pd)\n",
    "chromo_df_pd,score_pd=generations(data_pd,label_pd,size=80,n_feat=data_pd.shape[1],n_parents=64,mutation_rate=0.20,n_gen=5,\n",
    "                         X_train = X_train,X_test = X_test,Y_train = Y_train,Y_test = Y_test)"
   ]
  },
  {
   "cell_type": "code",
   "execution_count": null,
   "metadata": {},
   "outputs": [],
   "source": [
    "# Visualization\n",
    "plot(score_bc, 0.9, 1.0, c=\"red\")"
   ]
  },
  {
   "cell_type": "markdown",
   "metadata": {},
   "source": [
    "# Dataset 3: PCOS"
   ]
  },
  {
   "cell_type": "code",
   "execution_count": null,
   "metadata": {},
   "outputs": [],
   "source": [
    "data_pcos = pd.read_csv(\"PCOS.xls\")\n",
    "label_pcos = data_pcos[\"PCOS (Y/N)\"]\n",
    "data_pcos.drop([\"Sl. No\",\"Patient File No.\",\"PCOS (Y/N)\",\"Unnamed: 44\",\"II    beta-HCG(mIU/mL)\",\"AMH(ng/mL)\"],axis = 1,inplace = True)\n",
    "data_pcos[\"Marraige Status (Yrs)\"].fillna(data_pcos['Marraige Status (Yrs)'].describe().loc[['50%']][0], inplace = True) \n",
    "data_pcos[\"Fast food (Y/N)\"].fillna(1, inplace = True) \n",
    "\n",
    "print(\"PCOS dataset:\\n\",data_pcos.shape[0],\"Records\\n\",data_pcos.shape[1],\"Features\")"
   ]
  },
  {
   "cell_type": "code",
   "execution_count": null,
   "metadata": {},
   "outputs": [],
   "source": [
    "display(data_pcos.head())\n",
    "print(\"The features in this dataset have both discrete and continuous values\")"
   ]
  },
  {
   "cell_type": "code",
   "execution_count": null,
   "metadata": {},
   "outputs": [],
   "source": [
    "score4 = acc_score(data_pcos,label_pcos)\n",
    "score4"
   ]
  },
  {
   "cell_type": "code",
   "execution_count": null,
   "metadata": {},
   "outputs": [],
   "source": [
    "logmodel = RandomForestClassifier(n_estimators=200, random_state=0)\n",
    "X_train,X_test, Y_train, Y_test = split(data_pcos,label_pcos)\n",
    "chromo_df_pcos,score_pcos=generations(data_pcos,label_pcos,size=80,n_feat=data_pcos.shape[1],n_parents=64,mutation_rate=0.20,n_gen=5,\n",
    "                         X_train = X_train,X_test = X_test,Y_train = Y_train,Y_test = Y_test)"
   ]
  },
  {
   "cell_type": "code",
   "execution_count": null,
   "metadata": {},
   "outputs": [],
   "source": [
    "plot(score_pcos,0.9,1.0,c = \"limegreen\")"
   ]
  },
  {
   "cell_type": "code",
   "execution_count": null,
   "metadata": {},
   "outputs": [],
   "source": []
  }
 ],
 "metadata": {
  "kernelspec": {
   "display_name": "Python 3",
   "language": "python",
   "name": "python3"
  },
  "language_info": {
   "codemirror_mode": {
    "name": "ipython",
    "version": 3
   },
   "file_extension": ".py",
   "mimetype": "text/x-python",
   "name": "python",
   "nbconvert_exporter": "python",
   "pygments_lexer": "ipython3",
   "version": "3.11.9"
  }
 },
 "nbformat": 4,
 "nbformat_minor": 2
}
